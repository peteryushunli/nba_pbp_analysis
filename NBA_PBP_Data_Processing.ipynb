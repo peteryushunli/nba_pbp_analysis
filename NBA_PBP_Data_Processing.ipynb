{
 "cells": [
  {
   "cell_type": "code",
   "execution_count": 1,
   "metadata": {},
   "outputs": [
    {
     "name": "stderr",
     "output_type": "stream",
     "text": [
      "/opt/anaconda3/lib/python3.8/site-packages/pandas/core/computation/expressions.py:20: UserWarning: Pandas requires version '2.7.3' or newer of 'numexpr' (version '2.7.1' currently installed).\n",
      "  from pandas.core.computation.check import NUMEXPR_INSTALLED\n"
     ]
    }
   ],
   "source": [
    "import numpy as np\n",
    "import pandas as pd\n",
    "import os\n",
    "\n",
    "notebook_path = os.path.abspath(\"\")\n",
    "os.chdir(notebook_path)\n",
    "\n",
    "from nba_data_functions import *\n",
    "pd.options.mode.chained_assignment = None  # default='warn'"
   ]
  },
  {
   "cell_type": "code",
   "execution_count": 16,
   "metadata": {},
   "outputs": [],
   "source": [
    "get_nba_data(seasons=range(2003, 2022), \n",
    "                 data=(\"nbastats\"),untar=False)"
   ]
  },
  {
   "cell_type": "code",
   "execution_count": 28,
   "metadata": {},
   "outputs": [
    {
     "name": "stdout",
     "output_type": "stream",
     "text": [
      "Finished processing the 2010 season\n",
      "Finished processing the 2011 season\n",
      "Finished processing the 2012 season\n",
      "Finished processing the 2013 season\n",
      "Finished processing the 2014 season\n",
      "Finished processing the 2015 season\n",
      "Finished processing the 2016 season\n",
      "Finished processing the 2017 season\n",
      "Finished processing the 2018 season\n",
      "There are null values in the ABS SCORE DIFF column of the 2019 season\n",
      "Finished processing the 2020 season\n",
      "Finished processing the 2021 season\n"
     ]
    }
   ],
   "source": [
    "#Run the full shot detail output function for every season since 2003\n",
    "for season in range(2010, 2022):\n",
    "    #Load pbp and shot detail data\n",
    "    pbp = pd.read_csv(\"Data/pbpstats_{}.csv\".format(season))\n",
    "    shot_detail = pd.read_csv(\"Data/shotdetail_{}.csv\".format(season))\n",
    "    #Run the full shot detail output function\n",
    "    output = full_shot_detail_output(shot_detail, pbp)\n",
    "    #Check if the output files has any nulls in the ABS SCORE DIFF column\n",
    "    if output['ABS_SCORE_DIFF'].isnull().values.any():\n",
    "        print(\"There are null values in the ABS SCORE DIFF column of the {} season\".format(season))\n",
    "    else:\n",
    "        output.to_csv('processed_pbp/shot_detail_pbp_{}.csv'.format(season), index = False)\n",
    "        print(f\"Finished processing the {season} season\")"
   ]
  },
  {
   "cell_type": "code",
   "execution_count": 2,
   "metadata": {},
   "outputs": [],
   "source": [
    "#Load 2022-2023 data sources\n",
    "pbp_2022 = pd.read_csv(\"/Users/yushunli/Documents/Data Science/NBA Projects/Shot Ranking/data/pbpstats_2022.csv\")\n",
    "shot_detail_2022 = pd.read_csv('/Users/yushunli/Documents/Data Science/NBA Projects/Shot Ranking/data/shotdetail_2022.csv')\n",
    "#Add Time Elapsed to shot_detail_2022\n",
    "shot_detail_2022 = shot_detail_time_elapsed(shot_detail_2022)"
   ]
  },
  {
   "cell_type": "code",
   "execution_count": 27,
   "metadata": {},
   "outputs": [
    {
     "data": {
      "text/html": [
       "<div>\n",
       "<style scoped>\n",
       "    .dataframe tbody tr th:only-of-type {\n",
       "        vertical-align: middle;\n",
       "    }\n",
       "\n",
       "    .dataframe tbody tr th {\n",
       "        vertical-align: top;\n",
       "    }\n",
       "\n",
       "    .dataframe thead th {\n",
       "        text-align: right;\n",
       "    }\n",
       "</style>\n",
       "<table border=\"1\" class=\"dataframe\">\n",
       "  <thead>\n",
       "    <tr style=\"text-align: right;\">\n",
       "      <th></th>\n",
       "      <th>GAME_ID</th>\n",
       "      <th>TIME_ELAPSED</th>\n",
       "      <th>ABS_SCORE_DIFF</th>\n",
       "    </tr>\n",
       "  </thead>\n",
       "  <tbody>\n",
       "    <tr>\n",
       "      <th>0</th>\n",
       "      <td>22200001</td>\n",
       "      <td>0</td>\n",
       "      <td>0.0</td>\n",
       "    </tr>\n",
       "    <tr>\n",
       "      <th>1</th>\n",
       "      <td>22200001</td>\n",
       "      <td>1</td>\n",
       "      <td>0.0</td>\n",
       "    </tr>\n",
       "    <tr>\n",
       "      <th>2</th>\n",
       "      <td>22200001</td>\n",
       "      <td>2</td>\n",
       "      <td>0.0</td>\n",
       "    </tr>\n",
       "    <tr>\n",
       "      <th>3</th>\n",
       "      <td>22200001</td>\n",
       "      <td>3</td>\n",
       "      <td>0.0</td>\n",
       "    </tr>\n",
       "    <tr>\n",
       "      <th>4</th>\n",
       "      <td>22200001</td>\n",
       "      <td>4</td>\n",
       "      <td>0.0</td>\n",
       "    </tr>\n",
       "  </tbody>\n",
       "</table>\n",
       "</div>"
      ],
      "text/plain": [
       "    GAME_ID  TIME_ELAPSED  ABS_SCORE_DIFF\n",
       "0  22200001             0             0.0\n",
       "1  22200001             1             0.0\n",
       "2  22200001             2             0.0\n",
       "3  22200001             3             0.0\n",
       "4  22200001             4             0.0"
      ]
     },
     "execution_count": 27,
     "metadata": {},
     "output_type": "execute_result"
    }
   ],
   "source": [
    "pbp_df = pbp_game_processing(pbp_2022)\n",
    "pbp_df['ABS_SCORE_DIFF'] = pbp_df['ABS_SCORE_DIFF'].fillna(method = 'ffill')\n",
    "pbp_df.head()"
   ]
  },
  {
   "cell_type": "code",
   "execution_count": 50,
   "metadata": {},
   "outputs": [],
   "source": [
    "full_shot_detail_output(shot_detail_2022, pbp_df).to_csv('/Users/yushunli/Documents/Data Science/NBA Projects/Shot Ranking/data/shot_detail_pbp_2022.csv', index = False)"
   ]
  },
  {
   "cell_type": "code",
   "execution_count": null,
   "metadata": {},
   "outputs": [],
   "source": []
  }
 ],
 "metadata": {
  "kernelspec": {
   "display_name": "base",
   "language": "python",
   "name": "python3"
  },
  "language_info": {
   "codemirror_mode": {
    "name": "ipython",
    "version": 3
   },
   "file_extension": ".py",
   "mimetype": "text/x-python",
   "name": "python",
   "nbconvert_exporter": "python",
   "pygments_lexer": "ipython3",
   "version": "3.8.5"
  },
  "orig_nbformat": 4
 },
 "nbformat": 4,
 "nbformat_minor": 2
}
